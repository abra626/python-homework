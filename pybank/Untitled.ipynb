{
 "cells": [
  {
   "cell_type": "code",
   "execution_count": 1,
   "metadata": {},
   "outputs": [],
   "source": [
    "import pandas\n",
    "data=pandas.read_csv(\"data.csv\")"
   ]
  },
  {
   "cell_type": "code",
   "execution_count": 3,
   "metadata": {},
   "outputs": [
    {
     "name": "stdout",
     "output_type": "stream",
     "text": [
      "<bound method NDFrame.head of         Date  Profit/Losses\n",
      "0   Jan-2010         867884\n",
      "1   Feb-2010         984655\n",
      "2   Mar-2010         322013\n",
      "3   Apr-2010         -69417\n",
      "4   May-2010         310503\n",
      "..       ...            ...\n",
      "81  Oct-2016         102685\n",
      "82  Nov-2016         795914\n",
      "83  Dec-2016          60988\n",
      "84  Jan-2017         138230\n",
      "85  Feb-2017         671099\n",
      "\n",
      "[86 rows x 2 columns]>\n"
     ]
    }
   ],
   "source": [
    "print(data.head)"
   ]
  },
  {
   "cell_type": "code",
   "execution_count": 5,
   "metadata": {},
   "outputs": [
    {
     "name": "stdout",
     "output_type": "stream",
     "text": [
      "        Date  Profit/Losses\n",
      "52  May-2014         132864\n"
     ]
    }
   ],
   "source": [
    "print(data.sample())"
   ]
  },
  {
   "cell_type": "code",
   "execution_count": 6,
   "metadata": {},
   "outputs": [],
   "source": [
    "number_months=data.count"
   ]
  },
  {
   "cell_type": "code",
   "execution_count": 10,
   "metadata": {},
   "outputs": [],
   "source": [
    "number_months=data.shape[0]"
   ]
  },
  {
   "cell_type": "code",
   "execution_count": 11,
   "metadata": {},
   "outputs": [
    {
     "name": "stdout",
     "output_type": "stream",
     "text": [
      "86\n"
     ]
    }
   ],
   "source": [
    "print(number_months)"
   ]
  },
  {
   "cell_type": "code",
   "execution_count": 12,
   "metadata": {},
   "outputs": [],
   "source": [
    "total=data[\"Profit/Losses\"].sum()"
   ]
  },
  {
   "cell_type": "code",
   "execution_count": 13,
   "metadata": {},
   "outputs": [
    {
     "name": "stdout",
     "output_type": "stream",
     "text": [
      "38382578\n"
     ]
    }
   ],
   "source": [
    "print (total)"
   ]
  },
  {
   "cell_type": "code",
   "execution_count": 14,
   "metadata": {},
   "outputs": [],
   "source": [
    "data[\"Previous Month\"]=data[\"Profit/Losses\"].shift(1)"
   ]
  },
  {
   "cell_type": "code",
   "execution_count": 16,
   "metadata": {},
   "outputs": [
    {
     "name": "stdout",
     "output_type": "stream",
     "text": [
      "        Date  Profit/Losses  Previous Month\n",
      "0   Jan-2010         867884             NaN\n",
      "1   Feb-2010         984655        867884.0\n",
      "2   Mar-2010         322013        984655.0\n",
      "3   Apr-2010         -69417        322013.0\n",
      "4   May-2010         310503        -69417.0\n",
      "..       ...            ...             ...\n",
      "81  Oct-2016         102685        768450.0\n",
      "82  Nov-2016         795914        102685.0\n",
      "83  Dec-2016          60988        795914.0\n",
      "84  Jan-2017         138230         60988.0\n",
      "85  Feb-2017         671099        138230.0\n",
      "\n",
      "[86 rows x 3 columns]\n"
     ]
    }
   ],
   "source": [
    "print (data)"
   ]
  },
  {
   "cell_type": "code",
   "execution_count": 17,
   "metadata": {},
   "outputs": [],
   "source": [
    "data[\"Change\"]=data[\"Profit/Losses\"]-data[\"Previous Month\"]"
   ]
  },
  {
   "cell_type": "code",
   "execution_count": 18,
   "metadata": {},
   "outputs": [
    {
     "name": "stdout",
     "output_type": "stream",
     "text": [
      "        Date  Profit/Losses  Previous Month    Change\n",
      "0   Jan-2010         867884             NaN       NaN\n",
      "1   Feb-2010         984655        867884.0  116771.0\n",
      "2   Mar-2010         322013        984655.0 -662642.0\n",
      "3   Apr-2010         -69417        322013.0 -391430.0\n",
      "4   May-2010         310503        -69417.0  379920.0\n",
      "..       ...            ...             ...       ...\n",
      "81  Oct-2016         102685        768450.0 -665765.0\n",
      "82  Nov-2016         795914        102685.0  693229.0\n",
      "83  Dec-2016          60988        795914.0 -734926.0\n",
      "84  Jan-2017         138230         60988.0   77242.0\n",
      "85  Feb-2017         671099        138230.0  532869.0\n",
      "\n",
      "[86 rows x 4 columns]\n"
     ]
    }
   ],
   "source": [
    "print (data)"
   ]
  },
  {
   "cell_type": "code",
   "execution_count": 20,
   "metadata": {},
   "outputs": [],
   "source": [
    "average_change=data[\"Change\"].mean(skipna=True)"
   ]
  },
  {
   "cell_type": "code",
   "execution_count": 21,
   "metadata": {},
   "outputs": [
    {
     "name": "stdout",
     "output_type": "stream",
     "text": [
      "-2315.1176470588234\n"
     ]
    }
   ],
   "source": [
    "print(average_change)"
   ]
  },
  {
   "cell_type": "code",
   "execution_count": 28,
   "metadata": {},
   "outputs": [],
   "source": [
    "greatest_increase_idx=data[\"Change\"].idxmax(skipna=True)\n",
    "greatest_increase_month=data[\"Date\"].iloc[greatest_increase_idx]\n",
    "greatest_increase_value=data[\"Change\"].iloc[greatest_increase_idx]\n",
    "\n",
    "greatest_decrease_idx=data[\"Change\"].idxmin(skipna=True)\n",
    "greatest_decrease_month=data[\"Date\"].iloc[greatest_decrease_idx]\n",
    "greatest_decrease_value=data[\"Change\"].iloc[greatest_decrease_idx]"
   ]
  },
  {
   "cell_type": "code",
   "execution_count": 29,
   "metadata": {},
   "outputs": [
    {
     "name": "stdout",
     "output_type": "stream",
     "text": [
      "Feb-2012 1926159.0\n",
      "Sep-2013 -2196167.0\n"
     ]
    }
   ],
   "source": [
    "print(greatest_increase_month, greatest_increase_value)\n",
    "print(greatest_decrease_month, greatest_decrease_value)"
   ]
  },
  {
   "cell_type": "code",
   "execution_count": 36,
   "metadata": {},
   "outputs": [],
   "source": [
    "results=f\"Financial Analysis \\n----------\\nTotal Months: {number_months} \\nTotal: {total} \\nAverage Change: {average_change} \\nGreatest Increase: {greatest_increase_month} {greatest_increase_value} \\nGreatest Decrease: {greatest_decrease_month} {greatest_decrease_value}\""
   ]
  },
  {
   "cell_type": "code",
   "execution_count": 38,
   "metadata": {},
   "outputs": [
    {
     "name": "stdout",
     "output_type": "stream",
     "text": [
      "Financial Analysis \n",
      "----------\n",
      "Total Months: 86 \n",
      "Total: 38382578 \n",
      "Average Change: -2315.1176470588234 \n",
      "Greatest Increase: Feb-2012 1926159.0 \n",
      "Greatest Decrease: Sep-2013 -2196167.0\n"
     ]
    }
   ],
   "source": [
    "print(results)"
   ]
  },
  {
   "cell_type": "code",
   "execution_count": 39,
   "metadata": {},
   "outputs": [],
   "source": [
    "with open(\"results.txt\",\"w\") as f:\n",
    "    f.write(results)"
   ]
  },
  {
   "cell_type": "code",
   "execution_count": 40,
   "metadata": {},
   "outputs": [],
   "source": [
    "def print_save(results):\n",
    "    print(results)\n",
    "    with open(\"results.txt\",\"w\") as f:\n",
    "        f.write(results)"
   ]
  },
  {
   "cell_type": "code",
   "execution_count": 41,
   "metadata": {},
   "outputs": [
    {
     "name": "stdout",
     "output_type": "stream",
     "text": [
      "Financial Analysis \n",
      "----------\n",
      "Total Months: 86 \n",
      "Total: 38382578 \n",
      "Average Change: -2315.1176470588234 \n",
      "Greatest Increase: Feb-2012 1926159.0 \n",
      "Greatest Decrease: Sep-2013 -2196167.0\n"
     ]
    }
   ],
   "source": [
    "print_save(results)"
   ]
  },
  {
   "cell_type": "code",
   "execution_count": 42,
   "metadata": {},
   "outputs": [
    {
     "name": "stdout",
     "output_type": "stream",
     "text": [
      "Financial Analysis \n",
      "----------\n",
      "Total Months: 86 \n",
      "Total: 38382578 \n",
      "Average Change: -2315.1176470588234 \n",
      "Greatest Increase: Feb-2012 1926159.0 \n",
      "Greatest Decrease: Sep-2013 -2196167.0\n"
     ]
    }
   ],
   "source": [
    "print_save(results)"
   ]
  },
  {
   "cell_type": "code",
   "execution_count": null,
   "metadata": {},
   "outputs": [],
   "source": []
  }
 ],
 "metadata": {
  "kernelspec": {
   "display_name": "Python 3",
   "language": "python",
   "name": "python3"
  },
  "language_info": {
   "codemirror_mode": {
    "name": "ipython",
    "version": 3
   },
   "file_extension": ".py",
   "mimetype": "text/x-python",
   "name": "python",
   "nbconvert_exporter": "python",
   "pygments_lexer": "ipython3",
   "version": "3.7.7"
  }
 },
 "nbformat": 4,
 "nbformat_minor": 4
}
